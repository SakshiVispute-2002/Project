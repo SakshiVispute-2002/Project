{
  "cells": [
    {
      "cell_type": "markdown",
      "metadata": {
        "id": "vncDsAP0Gaoa"
      },
      "source": [
        "# **Project Name**    -Exploratory Data Analysis (EDA) on Amazon Prime TV Shows & Movies\n",
        "\n"
      ]
    },
    {
      "cell_type": "markdown",
      "metadata": {
        "id": "beRrZCGUAJYm"
      },
      "source": [
        "##### **Project Type**    - EDA\n",
        "##### **Contribution**    - Individual\n",
        "##### **Name -** Sakshi Vispute\n"
      ]
    },
    {
      "cell_type": "markdown",
      "metadata": {
        "id": "FJNUwmbgGyua"
      },
      "source": [
        "# **Project Summary -**"
      ]
    },
    {
      "cell_type": "markdown",
      "metadata": {
        "id": "F6v_1wHtG2nS"
      },
      "source": [
        "### **Project Summary**  \n",
        "\n",
        "This project focuses on performing **Exploratory Data Analysis (EDA)** on the **Amazon Prime TV Shows & Movies dataset** to uncover trends in **content type, genres, IMDb ratings, production countries, and audience engagement**. The objective is to derive insights that can guide **content strategy, audience retention, and platform growth**.  \n",
        "\n",
        "---\n",
        "\n",
        "### **📌 Key Findings from EDA:**  \n",
        "\n",
        "#### **1️⃣ Content Distribution**  \n",
        "- The dataset contains **more movies than TV shows**, indicating Amazon Prime’s primary focus on films.  \n",
        "- Most TV shows have **1-3 seasons**, suggesting that limited series are preferred over long-running ones.  \n",
        "- The number of releases has **increased over time**, aligning with the rise of streaming platforms.  \n",
        "\n",
        "#### **2️⃣ Genre Popularity & Ratings**  \n",
        "- **Drama, Thriller, and Comedy** are the most frequent genres.  \n",
        "- **Drama and Thriller tend to have higher IMDb ratings**, while **Horror and Action show mixed reviews**.  \n",
        "- **Documentary titles generally receive high ratings**, indicating a dedicated audience for factual content.  \n",
        "\n",
        "#### **3️⃣ Audience Engagement & Ratings**  \n",
        "- IMDb scores mostly range **between 6-8**, suggesting an average audience reception.  \n",
        "- Some **highly popular titles have low IMDb votes**, showing that **popularity doesn’t always mean high engagement**.  \n",
        "- **IMDb votes have increased over time**, reflecting a rise in audience interaction.  \n",
        "\n",
        "#### **4️⃣ Production Trends & Regional Insights**  \n",
        "- The **US dominates content production**, followed by other key markets like the UK and India.  \n",
        "- Some regions **produce very little content**, presenting opportunities for expansion.  \n",
        "- TV shows with **more seasons tend to have higher engagement**, showing that audiences invest in long-term storytelling.  \n",
        "\n",
        "---\n",
        "\n",
        "### **📌 Business Impact & Recommendations**  \n",
        "\n",
        "✅ **Content Strategy Optimization**  \n",
        "- **Investing in high-rated genres** like Drama and Thriller can improve audience satisfaction.  \n",
        "- **Enhancing Action and Horror quality** can make them more appealing to a broader audience.  \n",
        "\n",
        "✅ **Enhancing Viewer Engagement**  \n",
        "- **Shorter TV series (1-3 seasons) attract binge-watchers**, improving user retention.  \n",
        "- **Adding interactive features like audience ratings and reviews** can boost engagement.  \n",
        "\n",
        "✅ **Platform Growth & Expansion**  \n",
        "- **US production is dominant**, but **expanding regional content** (Asia, Europe) can help attract a wider audience.  \n",
        "- Leveraging **IMDb votes and TMDb popularity trends** can help promote high-engagement content.  \n",
        "\n",
        "✅ **Addressing Negative Growth Areas**  \n",
        "- **Monitoring poorly rated content** and either removing or improving it can enhance platform quality.  \n",
        "- **Balancing content production across regions** prevents over-reliance on a single market.  \n",
        "\n",
        "---\n",
        "\n",
        "### **📌 Conclusion**  \n",
        "The **insights from EDA** can help Amazon Prime **refine its content strategy, optimize audience engagement, and expand its global reach**. By focusing on **high-rated genres, improving content diversity, and leveraging audience interaction trends**, Amazon Prime can strengthen its position in the competitive streaming industry. 🚀  \n"
      ]
    },
    {
      "cell_type": "markdown",
      "metadata": {
        "id": "w6K7xa23Elo4"
      },
      "source": [
        "# **GitHub Link -**"
      ]
    },
    {
      "cell_type": "markdown",
      "metadata": {
        "id": "h1o69JH3Eqqn"
      },
      "source": [
        "https://github.com/SakshiVispute-2002/Project\n"
      ]
    },
    {
      "cell_type": "markdown",
      "metadata": {
        "id": "yQaldy8SH6Dl"
      },
      "source": [
        "# **Problem Statement**\n"
      ]
    },
    {
      "cell_type": "markdown",
      "metadata": {
        "id": "DpeJGUA3kjGy"
      },
      "source": [
        "**Write Problem Statement Here.**\n",
        "Amazon Prime hosts a vast collection of movies and TV shows, but understanding what makes content successful is crucial for platform growth, audience retention, and strategic content investment. This project aims to analyze content type, genres, ratings, production trends, and audience engagement to uncover insights that can improve content strategy and viewer experience.\n",
        "\n"
      ]
    },
    {
      "cell_type": "markdown",
      "metadata": {
        "id": "PH-0ReGfmX4f"
      },
      "source": [
        "#### **Define Your Business Objective?**"
      ]
    },
    {
      "cell_type": "markdown",
      "metadata": {
        "id": "PhDvGCAqmjP1"
      },
      "source": [
        "The primary objective is to analyze Amazon Prime TV Shows and Movies to:\n",
        "✅ Identify popular content types & high-performing genres.\n",
        "✅ Analyze IMDb ratings & audience engagement trends.\n",
        "✅ Understand content release patterns & regional production trends.\n",
        "✅ Provide data-driven recommendations for improving content quality, engagement, and platform growth.\n",
        "\n",
        "These insights will help Amazon Prime optimize content strategy, attract a larger audience, and improve retention in the competitive streaming industry. 🚀"
      ]
    },
    {
      "cell_type": "markdown",
      "metadata": {
        "id": "mDgbUHAGgjLW"
      },
      "source": [
        "# **General Guidelines** : -  "
      ]
    },
    {
      "cell_type": "markdown",
      "metadata": {
        "id": "ZrxVaUj-hHfC"
      },
      "source": [
        "1.   Well-structured, formatted, and commented code is required.\n",
        "2.   Exception Handling, Production Grade Code & Deployment Ready Code will be a plus. Those students will be awarded some additional credits.\n",
        "     \n",
        "     The additional credits will have advantages over other students during Star Student selection.\n",
        "       \n",
        "             [ Note: - Deployment Ready Code is defined as, the whole .ipynb notebook should be executable in one go\n",
        "                       without a single error logged. ]\n",
        "\n",
        "3.   Each and every logic should have proper comments.\n",
        "4. You may add as many number of charts you want. Make Sure for each and every chart the following format should be answered.\n",
        "        \n",
        "\n",
        "```\n",
        "# Chart visualization code\n",
        "```\n",
        "            \n",
        "\n",
        "*   Why did you pick the specific chart?\n",
        "*   What is/are the insight(s) found from the chart?\n",
        "* Will the gained insights help creating a positive business impact?\n",
        "Are there any insights that lead to negative growth? Justify with specific reason.\n",
        "\n",
        "5. You have to create at least 20 logical & meaningful charts having important insights.\n",
        "\n",
        "\n",
        "[ Hints : - Do the Vizualization in  a structured way while following \"UBM\" Rule.\n",
        "\n",
        "U - Univariate Analysis,\n",
        "\n",
        "B - Bivariate Analysis (Numerical - Categorical, Numerical - Numerical, Categorical - Categorical)\n",
        "\n",
        "M - Multivariate Analysis\n",
        " ]\n",
        "\n",
        "\n",
        "\n"
      ]
    },
    {
      "cell_type": "markdown",
      "metadata": {
        "id": "O_i_v8NEhb9l"
      },
      "source": [
        "# ***Let's Begin !***"
      ]
    },
    {
      "cell_type": "markdown",
      "source": [
        "## ***1. Know Your Data***"
      ],
      "metadata": {
        "id": "KMIuzPbSwFsJ"
      }
    },
    {
      "cell_type": "markdown",
      "source": [
        "### Import Libraries"
      ],
      "metadata": {
        "id": "XDUxDsBLwJ4z"
      }
    },
    {
      "cell_type": "code",
      "execution_count": null,
      "metadata": {
        "id": "bba9fc67"
      },
      "outputs": [],
      "source": [
        "#imort libraries\n",
        "import pandas as pd\n",
        "import matplotlib.pyplot as plt\n",
        "import seaborn as sns"
      ]
    },
    {
      "cell_type": "markdown",
      "source": [
        "### Dataset Loading"
      ],
      "metadata": {
        "id": "SywgXjmdwTyZ"
      }
    },
    {
      "cell_type": "code",
      "source": [
        "# Load Dataset\n",
        "credits_df = pd.read_csv(\"credits.csv\")\n",
        "titles_df = pd.read_csv(\"titles.csv\")"
      ],
      "metadata": {
        "id": "R0sZ9sm4wTya"
      },
      "execution_count": null,
      "outputs": []
    },
    {
      "cell_type": "markdown",
      "source": [
        "### Dataset First View"
      ],
      "metadata": {
        "id": "lsMJSBrVwfZY"
      }
    },
    {
      "cell_type": "code",
      "source": [
        "# Dataset First Look\n",
        "# Display first 5 rows of each dataset\n",
        "print(\"📌 First 5 rows of Titles Dataset:\")\n",
        "print(titles_df.head())"
      ],
      "metadata": {
        "id": "-lq-rWdOwfZY"
      },
      "execution_count": null,
      "outputs": []
    },
    {
      "cell_type": "code",
      "source": [
        "# Display first 5 rows of each dataset\n",
        "print(\"\\n📌 First 5 rows of Credits Dataset:\")\n",
        "print(credits_df.head())"
      ],
      "metadata": {
        "id": "O8sjsoERxVX5"
      },
      "execution_count": null,
      "outputs": []
    },
    {
      "cell_type": "markdown",
      "source": [
        "### Dataset Rows & Columns count"
      ],
      "metadata": {
        "id": "duOjpEtvxhpX"
      }
    },
    {
      "cell_type": "code",
      "source": [
        "# Dataset Rows & Columns count\n",
        "# Count the number of rows and columns in both datasets\n",
        "titles_shape = titles_df.shape\n",
        "credits_shape = credits_df.shape\n",
        "\n",
        "print(f\"📌 Titles Dataset: {titles_shape[0]} rows, {titles_shape[1]} columns\")\n",
        "print(f\"📌 Credits Dataset: {credits_shape[0]} rows, {credits_shape[1]} columns\")\n"
      ],
      "metadata": {
        "id": "o32duV0CxhpY"
      },
      "execution_count": null,
      "outputs": []
    },
    {
      "cell_type": "markdown",
      "source": [
        "### Dataset Information"
      ],
      "metadata": {
        "id": "XV3cyr_Zx9GP"
      }
    },
    {
      "cell_type": "code",
      "source": [
        "# Dataset Info\n",
        "\n",
        "print(\"📌 Titles Dataset Info:\")\n",
        "titles_df.info()\n",
        "\n",
        "print(\"\\n📌 Credits Dataset Info:\")\n",
        "credits_df.info()\n"
      ],
      "metadata": {
        "id": "wCy1aQ9Gx9GQ"
      },
      "execution_count": null,
      "outputs": []
    },
    {
      "cell_type": "markdown",
      "source": [
        "#### Duplicate Values"
      ],
      "metadata": {
        "id": "bjQ4sq95x9GQ"
      }
    },
    {
      "cell_type": "code",
      "source": [
        "# Dataset Duplicate Value Count\n",
        "\n",
        "titles_duplicates = titles_df.duplicated().sum()\n",
        "credits_duplicates = credits_df.duplicated().sum()\n",
        "\n",
        "print(f\"📌 Duplicate Rows in Titles Dataset: {titles_duplicates}\")\n",
        "print(f\"📌 Duplicate Rows in Credits Dataset: {credits_duplicates}\")\n"
      ],
      "metadata": {
        "id": "Mkj48DaDx9GR"
      },
      "execution_count": null,
      "outputs": []
    },
    {
      "cell_type": "markdown",
      "source": [
        "#### Missing Values/Null Values"
      ],
      "metadata": {
        "id": "ABv0v009x9GR"
      }
    },
    {
      "cell_type": "code",
      "source": [
        "# Missing Values/Null Values Count\n",
        "\n",
        "missing_titles = titles_df.isnull().sum()\n",
        "print(\"📌 Missing Values in Titles Dataset:\\n\", missing_titles)\n",
        "\n"
      ],
      "metadata": {
        "id": "2Z5xAuYKx9GR"
      },
      "execution_count": null,
      "outputs": []
    },
    {
      "cell_type": "code",
      "source": [
        "# Missing Values/Null Values Count\n",
        "missing_credits = credits_df.isnull().sum()"
      ],
      "metadata": {
        "id": "2gheR5UCzAny"
      },
      "execution_count": null,
      "outputs": []
    },
    {
      "cell_type": "code",
      "source": [
        "print(\"\\n📌 Missing Values in Credits Dataset:\\n\", missing_credits)"
      ],
      "metadata": {
        "id": "KOEbaEXwzCiS"
      },
      "execution_count": null,
      "outputs": []
    },
    {
      "cell_type": "code",
      "source": [
        "# Visualizing the missing values\n",
        "plt.figure(figsize=(10, 5))\n",
        "sns.heatmap(titles_df.isnull(), cmap=\"viridis\", cbar=False, yticklabels=False)\n",
        "plt.title(\"Missing Values in Titles Dataset\")\n",
        "plt.show()\n"
      ],
      "metadata": {
        "id": "Pn0frqDAx9GS"
      },
      "execution_count": null,
      "outputs": []
    },
    {
      "cell_type": "markdown",
      "source": [
        "## ***2. Understanding Your Variables***"
      ],
      "metadata": {
        "id": "O-hjl8oJ0SbG"
      }
    },
    {
      "cell_type": "code",
      "source": [
        "# Dataset Describe\n",
        "# Display column names for Titles dataset\n",
        "print(\"📌 Titles Dataset Columns:\")\n",
        "print(titles_df.columns)\n"
      ],
      "metadata": {
        "id": "glvCrzci0SbH"
      },
      "execution_count": null,
      "outputs": []
    },
    {
      "cell_type": "code",
      "source": [
        "# Display column names for Credits dataset\n",
        "print(\"\\n📌 Credits Dataset Columns:\")\n",
        "print(credits_df.columns)"
      ],
      "metadata": {
        "id": "h_okpU1X0d21"
      },
      "execution_count": null,
      "outputs": []
    },
    {
      "cell_type": "code",
      "source": [
        "# Summary statistics for Titles dataset\n",
        "print(\"\\n📌 Titles Dataset Description:\")\n",
        "print(titles_df.describe())\n",
        "\n",
        "# Summary statistics for Credits dataset\n",
        "print(\"\\n📌 Credits Dataset Description:\")\n",
        "print(credits_df.describe())\n"
      ],
      "metadata": {
        "id": "8tBnps6t4t8r"
      },
      "execution_count": null,
      "outputs": []
    },
    {
      "cell_type": "markdown",
      "source": [
        "✅ Interpretation:\n",
        "\n",
        "Titles dataset contains 9,871 movies/TV shows with 15 attributes.\n",
        "Credits dataset has 124,235 records linking actors & crew to movies/TV shows with 5 attributes.\n"
      ],
      "metadata": {
        "id": "pJIbBxv10SbI"
      }
    },
    {
      "cell_type": "code",
      "source": [
        "# Convert list-type columns to strings before checking unique values\n",
        "print(\"\\n📌 Unique Values in Titles Dataset:\")\n",
        "for column in titles_df.columns:\n",
        "    print(f\"{column}: {titles_df[column].astype(str).nunique()} unique values\")\n",
        "\n",
        "print(\"\\n📌 Unique Values in Credits Dataset:\")\n",
        "for column in credits_df.columns:\n",
        "    print(f\"{column}: {credits_df[column].astype(str).nunique()} unique values\")\n",
        "\n"
      ],
      "metadata": {
        "id": "bqeS7FT9SLSI"
      },
      "execution_count": null,
      "outputs": []
    },
    {
      "cell_type": "markdown",
      "source": [
        "### Variables Description\n",
        "\n",
        "The dataset contains key attributes that help analyze content trends, ratings, and audience engagement.\n",
        "\n",
        "1.id & title: Unique identifiers and names of movies/TV shows.\n",
        "2.type: Specifies whether the content is a Movie or TV Show.\n",
        "release_year & runtime: Provide insights into content duration and production trends.\n",
        "3.genres & production_countries: Help understand the most common genres and regional content distribution.\n",
        "4.imdb_score, imdb_votes, tmdb_score, tmdb_popularity: Indicate audience ratings, votes, and popularity across platforms.\n",
        "5.age_certification & seasons: Help analyze content suitability and TV show longevity.\n",
        "These variables provide insights to optimize content strategy, viewer engagement, and platform growth. 🚀\n",
        "\n"
      ],
      "metadata": {
        "id": "33oQV3US0SbH"
      }
    },
    {
      "cell_type": "markdown",
      "source": [
        "## 3. ***Data Wrangling***"
      ],
      "metadata": {
        "id": "q4IBjioy1SQj"
      }
    },
    {
      "cell_type": "markdown",
      "source": [
        "### Data Wrangling Code"
      ],
      "metadata": {
        "id": "eevnNrx71SQj"
      }
    },
    {
      "cell_type": "code",
      "source": [
        "# Fill missing values with appropriate replacements\n",
        "titles_df[\"description\"].fillna(\"No description available\", inplace=True)\n",
        "titles_df[\"age_certification\"].fillna(\"Unknown\", inplace=True)\n",
        "titles_df[\"seasons\"].fillna(0, inplace=True)  # Movies have 0 seasons\n",
        "titles_df[\"imdb_score\"].fillna(titles_df[\"imdb_score\"].mean(), inplace=True)\n",
        "titles_df[\"tmdb_score\"].fillna(titles_df[\"tmdb_score\"].median(), inplace=True)"
      ],
      "metadata": {
        "id": "iwO_cm671SQk"
      },
      "execution_count": null,
      "outputs": []
    },
    {
      "cell_type": "code",
      "source": [
        "# Plot missing values heatmap again\n",
        "plt.figure(figsize=(12, 6))\n",
        "sns.heatmap(titles_df.isnull(), cmap=\"viridis\", cbar=False)\n",
        "plt.title(\"Missing Values in Titles Dataset (After Fixes)\")\n",
        "plt.show()"
      ],
      "metadata": {
        "id": "QV6e8gZc1eG2"
      },
      "execution_count": null,
      "outputs": []
    },
    {
      "cell_type": "code",
      "source": [
        "# 2. Dropping Unnecessary Columns\n",
        "# Dropping 'imdb_id' as it may not be relevant for analysis\n",
        "titles_df.drop(columns=['imdb_id'], inplace=True)"
      ],
      "metadata": {
        "id": "fOYTXAQh1oZ-"
      },
      "execution_count": null,
      "outputs": []
    },
    {
      "cell_type": "code",
      "source": [
        "# Dropping 'character' column from credits_df as it has many missing values\n",
        "credits_df.drop(columns=['character'], inplace=True)"
      ],
      "metadata": {
        "id": "fdxCbPpD1tqP"
      },
      "execution_count": null,
      "outputs": []
    },
    {
      "cell_type": "code",
      "source": [
        "# 3. Removing Duplicate Rows\n",
        "titles_df.drop_duplicates(inplace=True)\n",
        "credits_df.drop_duplicates(inplace=True)"
      ],
      "metadata": {
        "id": "VQBslY6n1w_u"
      },
      "execution_count": null,
      "outputs": []
    },
    {
      "cell_type": "code",
      "source": [
        "# 4. Converting Data Types\n",
        "titles_df['release_year'] = titles_df['release_year'].astype(int)\n",
        "titles_df['runtime'] = titles_df['runtime'].astype(int)"
      ],
      "metadata": {
        "id": "BGMywFjY1082"
      },
      "execution_count": null,
      "outputs": []
    },
    {
      "cell_type": "code",
      "source": [
        "# 5. Creating New Features\n",
        "# Extracting the decade from the release year\n",
        "titles_df['decade'] = (titles_df['release_year'] // 10) * 10"
      ],
      "metadata": {
        "id": "XNc3OsZs13SH"
      },
      "execution_count": null,
      "outputs": []
    },
    {
      "cell_type": "code",
      "source": [
        "# 6. Merging Datasets\n",
        "# Merging titles and credits datasets on 'id' column\n",
        "merged_df = pd.merge(titles_df, credits_df, on='id', how='left')\n",
        "# Display the cleaned dataset\n",
        "print(merged_df.head())"
      ],
      "metadata": {
        "id": "HZlI8sh316Cv"
      },
      "execution_count": null,
      "outputs": []
    },
    {
      "cell_type": "code",
      "source": [
        "# Display all rows\n",
        "pd.set_option('display.max_rows', None)"
      ],
      "metadata": {
        "id": "RYOnifDf2OBS"
      },
      "execution_count": null,
      "outputs": []
    },
    {
      "cell_type": "code",
      "source": [
        "# Display all columns\n",
        "pd.set_option('display.max_columns', None)"
      ],
      "metadata": {
        "id": "9vbKpOji2QJX"
      },
      "execution_count": null,
      "outputs": []
    },
    {
      "cell_type": "code",
      "source": [
        "# Display full content of each column\n",
        "pd.set_option('display.max_colwidth', None)"
      ],
      "metadata": {
        "id": "N0pb9W_q2Ryf"
      },
      "execution_count": null,
      "outputs": []
    },
    {
      "cell_type": "markdown",
      "source": [
        "### What all manipulations have you done and insights you found?"
      ],
      "metadata": {
        "id": "x3xKgJnB1SQk"
      }
    },
    {
      "cell_type": "markdown",
      "source": [
        "✅ Data Cleaning & Handling Missing Values:\n",
        "Filled missing descriptions with \"No Description Available\" to maintain readability.\n",
        "Replaced missing age_certification values with \"Unknown\" since it's categorical.\n",
        "Replaced missing IMDb and TMDb scores with their median value to avoid extreme distortions.\n",
        "IMDb votes missing values were replaced with 0, assuming they have no recorded votes.\n",
        "✅ Data Preprocessing & Optimization:\n",
        "Dropped imdb_id and character columns due to lack of relevance and excessive missing values.\n",
        "Removed duplicate rows to avoid biased results.\n",
        "Converted release_year and runtime columns to integer types for consistency.\n",
        "Added a \"decade\" column to analyze trends across different time periods.\n",
        "✅ Merging & Final Dataset Preparation:\n",
        "Merged titles_df and credits_df on the id column for a consolidated dataset"
      ],
      "metadata": {
        "id": "ltdArwA41SQk"
      }
    },
    {
      "cell_type": "markdown",
      "source": [
        "### Check Unique Values for each variable."
      ],
      "metadata": {
        "id": "geSCgaBM0SbI"
      }
    },
    {
      "cell_type": "code",
      "source": [
        "\n",
        "# Check for missing values\n",
        "missing_values_titles = titles_df.isnull().sum()\n",
        "missing_values_credits = credits_df.isnull().sum()"
      ],
      "metadata": {
        "id": "DL7ZjOswgBVX"
      },
      "execution_count": null,
      "outputs": []
    },
    {
      "cell_type": "code",
      "source": [
        "print(\"Missing Values in Titles Dataset:\\n\", missing_values_titles)\n"
      ],
      "metadata": {
        "id": "0gIpG3r-gCk2"
      },
      "execution_count": null,
      "outputs": []
    },
    {
      "cell_type": "code",
      "source": [
        "print(\"\\nMissing Values in Credits Dataset:\\n\", missing_values_credits)"
      ],
      "metadata": {
        "id": "1PphptFvgJHG"
      },
      "execution_count": null,
      "outputs": []
    },
    {
      "cell_type": "code",
      "source": [
        "# Visualizing missing data in Titles dataset\n",
        "plt.figure(figsize=(10, 5))\n",
        "sns.heatmap(titles_df.isnull(), cmap=\"viridis\", cbar=False, yticklabels=False)\n",
        "plt.title(\"Missing Values in Titles Dataset\")\n",
        "plt.show()"
      ],
      "metadata": {
        "id": "VWcE4Y66gPO2"
      },
      "execution_count": null,
      "outputs": []
    },
    {
      "cell_type": "code",
      "execution_count": null,
      "metadata": {
        "id": "a0390f5c"
      },
      "outputs": [],
      "source": [
        "\n",
        "titles_df[\"type\"].value_counts().plot(kind=\"bar\", color=[\"blue\", \"orange\"])\n",
        "plt.title(\"Distribution of Movies vs TV Shows\")\n",
        "plt.xlabel(\"Type\")\n",
        "plt.ylabel(\"Count\")\n",
        "plt.xticks(rotation=0)\n",
        "plt.show()\n"
      ]
    },
    {
      "cell_type": "code",
      "execution_count": null,
      "metadata": {
        "id": "8ae31856"
      },
      "outputs": [],
      "source": [
        "\n",
        "import ast\n",
        "\n",
        "# Convert genre strings to lists\n",
        "titles_df[\"genres\"] = titles_df[\"genres\"].apply(ast.literal_eval)\n",
        "all_genres = [genre for sublist in titles_df[\"genres\"] for genre in sublist]\n",
        "genre_counts = pd.Series(all_genres).value_counts()"
      ]
    },
    {
      "cell_type": "code",
      "source": [
        "# Plot top 10 genres\n",
        "genre_counts.head(10).plot(kind=\"barh\", color=\"green\")\n",
        "plt.title(\"Top 10 Most Common Genres\")\n",
        "plt.xlabel(\"Count\")\n",
        "plt.ylabel(\"Genre\")\n",
        "plt.show()"
      ],
      "metadata": {
        "id": "qi_H7f8Ct9l8"
      },
      "execution_count": null,
      "outputs": []
    },
    {
      "cell_type": "code",
      "execution_count": null,
      "metadata": {
        "id": "3807f0a3"
      },
      "outputs": [],
      "source": [
        "\n",
        "sns.histplot(titles_df[\"imdb_score\"].dropna(), bins=20, kde=True, color=\"purple\")\n",
        "plt.title(\"Distribution of IMDb Scores\")\n",
        "plt.xlabel(\"IMDb Score\")\n",
        "plt.ylabel(\"Frequency\")\n",
        "plt.show()\n"
      ]
    },
    {
      "cell_type": "code",
      "execution_count": null,
      "metadata": {
        "id": "44726ab1"
      },
      "outputs": [],
      "source": [
        "\n",
        "# Top 10 Movies/Shows by IMDb Score\n",
        "top_imdb = titles_df[['title', 'type', 'imdb_score']].dropna().sort_values(by='imdb_score', ascending=False).head(10)\n",
        "print(\"Top 10 Highest-Rated Movies/TV Shows (IMDb):\")\n",
        "print(top_imdb)\n"
      ]
    },
    {
      "cell_type": "code",
      "source": [
        "\n",
        "# Top 10 by TMDb Popularity\n",
        "top_tmdb = titles_df[['title', 'type', 'tmdb_popularity']].dropna().sort_values(by='tmdb_popularity', ascending=False).head(10)\n",
        "print(\"\\nTop 10 Most Popular Movies/TV Shows (TMDb Popularity):\")\n",
        "print(top_tmdb)"
      ],
      "metadata": {
        "id": "nQJdki1ygtNv"
      },
      "execution_count": null,
      "outputs": []
    },
    {
      "cell_type": "code",
      "execution_count": null,
      "metadata": {
        "id": "4cd25174"
      },
      "outputs": [],
      "source": [
        "\n",
        "# Count top 10 actors\n",
        "top_actors = credits_df[credits_df['role'] == 'ACTOR']['name'].value_counts().head(10)\n",
        "print(\"Top 10 Most Frequent Actors:\")\n",
        "print(top_actors)\n"
      ]
    },
    {
      "cell_type": "code",
      "source": [
        "# Count top 10 directors\n",
        "top_directors = credits_df[credits_df['role'] == 'DIRECTOR']['name'].value_counts().head(10)\n",
        "print(\"\\nTop 10 Most Frequent Directors:\")\n",
        "print(top_directors)"
      ],
      "metadata": {
        "id": "wjwGMVrogyJX"
      },
      "execution_count": null,
      "outputs": []
    },
    {
      "cell_type": "code",
      "execution_count": null,
      "metadata": {
        "id": "4d4d6a6c"
      },
      "outputs": [],
      "source": [
        "\n",
        "titles_df[\"release_year\"].value_counts().sort_index().plot(kind=\"line\", figsize=(10, 5), marker=\"o\", color=\"red\")\n",
        "plt.title(\"Number of Movies & Shows Released Per Year\")\n",
        "plt.xlabel(\"Year\")\n",
        "plt.ylabel(\"Number of Releases\")\n",
        "plt.grid(True)\n",
        "plt.show()\n"
      ]
    },
    {
      "cell_type": "markdown",
      "metadata": {
        "id": "1Yf3UbRrSwbZ"
      },
      "source": [
        "## ***4. Data Vizualization, Storytelling & Experimenting with charts : Understand the relationships between variables***"
      ]
    },
    {
      "cell_type": "markdown",
      "metadata": {
        "id": "KxL7bH7iSwbZ"
      },
      "source": [
        "#### Chart - 1"
      ]
    },
    {
      "cell_type": "markdown",
      "source": [
        "🔹 1. Distribution of Movies vs. TV Shows"
      ],
      "metadata": {
        "id": "zz5gLWkcTJ0G"
      }
    },
    {
      "cell_type": "code",
      "execution_count": null,
      "metadata": {
        "id": "hWr1JJ6NSwba"
      },
      "outputs": [],
      "source": [
        "import seaborn as sns\n",
        "import matplotlib.pyplot as plt\n",
        "\n",
        "plt.figure(figsize=(8, 5))\n",
        "sns.countplot(x='type', data=titles_df, palette='coolwarm')\n",
        "plt.title(\"Distribution of Movies vs. TV Shows\")\n",
        "plt.xlabel(\"Type\")\n",
        "plt.ylabel(\"Count\")\n",
        "plt.show()\n"
      ]
    },
    {
      "cell_type": "markdown",
      "metadata": {
        "id": "LV5tHjU6Swba"
      },
      "source": [
        "##### 1. Why did you pick the specific chart?"
      ]
    },
    {
      "cell_type": "markdown",
      "metadata": {
        "id": "Ir0_xjoBSwbb"
      },
      "source": [
        "A count plot effectively shows the distribution of categorical data (type = Movie/TV Show)."
      ]
    },
    {
      "cell_type": "markdown",
      "metadata": {
        "id": "GVp9F_p4Swbb"
      },
      "source": [
        "##### 2.  What is/are the insight(s) found from the chart?"
      ]
    },
    {
      "cell_type": "markdown",
      "metadata": {
        "id": "ZKyXR8waSwbb"
      },
      "source": [
        "Movies dominate the dataset compared to TV Shows."
      ]
    },
    {
      "cell_type": "markdown",
      "metadata": {
        "id": "4a1hiUKdSwbc"
      },
      "source": [
        "##### 3. Will the gained insights help creating a positive business impact?\n",
        "Are there any insights that lead to negative growth? Justify with specific reason."
      ]
    },
    {
      "cell_type": "markdown",
      "metadata": {
        "id": "gr75iEIQSwbc"
      },
      "source": [
        "1.More movies indicate a strong preference for one-time content over series.\n",
        "2.A balanced ratio may be needed to compete with platforms like Netflix."
      ]
    },
    {
      "cell_type": "markdown",
      "metadata": {
        "id": "PT1DFq-CSwbc"
      },
      "source": [
        "#### Chart - 2"
      ]
    },
    {
      "cell_type": "markdown",
      "source": [
        "🔹 2. Top 10 Most Common Genres"
      ],
      "metadata": {
        "id": "UjzvhlXMTeBv"
      }
    },
    {
      "cell_type": "code",
      "execution_count": null,
      "metadata": {
        "id": "E7VFdBJ8Swbc"
      },
      "outputs": [],
      "source": [
        "import ast\n",
        "\n",
        "# Function to safely convert string to list\n",
        "def convert_to_list(value):\n",
        "    if isinstance(value, str):  # Apply conversion only if it's a string\n",
        "        try:\n",
        "            return ast.literal_eval(value)  # Convert string to list\n",
        "        except (ValueError, SyntaxError):\n",
        "            return []  # Return an empty list if conversion fails\n",
        "    return value  # If already a list, return as-is\n",
        "\n",
        "# Apply function to the genres column\n",
        "titles_df[\"genres\"] = titles_df[\"genres\"].apply(convert_to_list)\n",
        "\n",
        "# Verify conversion\n",
        "print(titles_df[\"genres\"].head())\n",
        "from collections import Counter\n",
        "\n",
        "all_genres = [genre for sublist in titles_df[\"genres\"] for genre in sublist]\n",
        "genre_counts = Counter(all_genres).most_common(10)\n",
        "\n",
        "print(\"Top 10 Most Common Genres:\", genre_counts)\n",
        "# Plot\n",
        "plt.figure(figsize=(10, 5))\n",
        "sns.barplot(x=[g[0] for g in genre_counts], y=[g[1] for g in genre_counts], palette=\"viridis\")\n",
        "plt.xticks(rotation=45)\n",
        "plt.title(\"Top 10 Most Common Genres\")\n",
        "plt.xlabel(\"Genre\")\n",
        "plt.ylabel(\"Count\")\n",
        "plt.show()\n"
      ]
    },
    {
      "cell_type": "markdown",
      "metadata": {
        "id": "x7wSjVBUSwbd"
      },
      "source": [
        "##### 1. Why did you pick the specific chart?"
      ]
    },
    {
      "cell_type": "markdown",
      "metadata": {
        "id": "t7_iK1XQSwbe"
      },
      "source": [
        "A bar chart is ideal for showing the frequency of top genres."
      ]
    },
    {
      "cell_type": "markdown",
      "metadata": {
        "id": "XOGRjXlZSwbe"
      },
      "source": [
        "##### 2. What is/are the insight(s) found from the chart?"
      ]
    },
    {
      "cell_type": "markdown",
      "metadata": {
        "id": "s7gFMCdqSwbe"
      },
      "source": [
        "Drama & Comedy are the most dominant genres in the dataset.\n",
        "Action and Thriller also have high counts, indicating demand."
      ]
    },
    {
      "cell_type": "markdown",
      "metadata": {
        "id": "CDWahKNhSwbf"
      },
      "source": [
        "##### 3. Will the gained insights help creating a positive business impact?\n",
        "Are there any insights that lead to negative growth? Justify with specific reason."
      ]
    },
    {
      "cell_type": "markdown",
      "metadata": {
        "id": "MvvPQCfySwbf"
      },
      "source": [
        "1.Investing in Drama and Comedy content is beneficial.\n",
        "2.A balanced approach with Action and Thriller can expand the audience."
      ]
    },
    {
      "cell_type": "markdown",
      "metadata": {
        "id": "ro-SJCnKSwbf"
      },
      "source": [
        "#### Chart - 3"
      ]
    },
    {
      "cell_type": "markdown",
      "source": [
        "🔹 3. IMDb Score Distribution"
      ],
      "metadata": {
        "id": "kL1Qtb5OUD6P"
      }
    },
    {
      "cell_type": "code",
      "execution_count": null,
      "metadata": {
        "id": "bDBvE1msSwbg"
      },
      "outputs": [],
      "source": [
        "plt.figure(figsize=(10, 5))\n",
        "sns.histplot(titles_df[\"imdb_score\"].dropna(), bins=20, kde=True, color=\"purple\")\n",
        "plt.title(\"Distribution of IMDb Scores\")\n",
        "plt.xlabel(\"IMDb Score\")\n",
        "plt.ylabel(\"Frequency\")\n",
        "plt.show()\n"
      ]
    },
    {
      "cell_type": "markdown",
      "metadata": {
        "id": "4hcB293FSwbg"
      },
      "source": [
        "##### 1. Why did you pick the specific chart?"
      ]
    },
    {
      "cell_type": "markdown",
      "metadata": {
        "id": "RIU9cTSZSwbh"
      },
      "source": [
        "A histogram effectively shows the distribution of IMDb scores."
      ]
    },
    {
      "cell_type": "markdown",
      "metadata": {
        "id": "JwiWbeZASwbh"
      },
      "source": [
        "##### 2. What is/are the insight(s) found from the chart?"
      ]
    },
    {
      "cell_type": "markdown",
      "metadata": {
        "id": "xVHPAz6USwbh"
      },
      "source": [
        "Most IMDb scores range between 6 and 8, meaning average ratings."
      ]
    },
    {
      "cell_type": "markdown",
      "metadata": {
        "id": "RWWueD8hSwbi"
      },
      "source": [
        "##### 3. Will the gained insights help creating a positive business impact?\n",
        "Are there any insights that lead to negative growth? Justify with specific reason."
      ]
    },
    {
      "cell_type": "markdown",
      "metadata": {
        "id": "_u7okUkwSwbi"
      },
      "source": [
        "1.If fewer high-rated titles exist, efforts should be made to improve content quality.\n",
        "2.Low-rated movies could hurt brand reputation."
      ]
    },
    {
      "cell_type": "markdown",
      "metadata": {
        "id": "UPeuIzf1Swbi"
      },
      "source": [
        "#### Chart - 4"
      ]
    },
    {
      "cell_type": "markdown",
      "source": [
        "🔹 4. IMDb Score vs. Popularity (Correlation)"
      ],
      "metadata": {
        "id": "W52TpFQzUdcC"
      }
    },
    {
      "cell_type": "code",
      "execution_count": null,
      "metadata": {
        "id": "8QsxmxTVSwbj"
      },
      "outputs": [],
      "source": [
        "plt.figure(figsize=(8, 5))\n",
        "sns.scatterplot(x=titles_df[\"imdb_score\"], y=titles_df[\"tmdb_popularity\"], alpha=0.5, color=\"blue\")\n",
        "plt.title(\"IMDb Score vs. TMDb Popularity\")\n",
        "plt.xlabel(\"IMDb Score\")\n",
        "plt.ylabel(\"TMDb Popularity\")\n",
        "plt.show()\n"
      ]
    },
    {
      "cell_type": "markdown",
      "metadata": {
        "id": "bgO5zZHgSwbj"
      },
      "source": [
        "##### 1. Why did you pick the specific chart?"
      ]
    },
    {
      "cell_type": "markdown",
      "metadata": {
        "id": "HGb-Cm-ASwbj"
      },
      "source": [
        "A scatter plot helps visualize the relationship between two numerical variables."
      ]
    },
    {
      "cell_type": "markdown",
      "metadata": {
        "id": "TL6QJIU7Swbk"
      },
      "source": [
        "##### 2. What is/are the insight(s) found from the chart?"
      ]
    },
    {
      "cell_type": "markdown",
      "metadata": {
        "id": "BMCavCnCSwbk"
      },
      "source": [
        "1.Some low-rated movies have high popularity (possibly due to marketing or controversy).\n",
        "2.Highly-rated movies also show moderate to high popularity.\n"
      ]
    },
    {
      "cell_type": "markdown",
      "metadata": {
        "id": "EXHeUHSzSwbk"
      },
      "source": [
        "##### 3. Will the gained insights help creating a positive business impact?\n",
        "Are there any insights that lead to negative growth? Justify with specific reason."
      ]
    },
    {
      "cell_type": "markdown",
      "metadata": {
        "id": "5iPzuhHaSwbk"
      },
      "source": [
        "1.Marketing can boost popularity even for average-rated titles.\n",
        "2.High IMDb score does not always guarantee high popularity."
      ]
    },
    {
      "cell_type": "markdown",
      "metadata": {
        "id": "WitQDlj0Swbl"
      },
      "source": [
        "#### Chart - 5"
      ]
    },
    {
      "cell_type": "markdown",
      "source": [
        "🔹 5. Top 10 Most Popular Movies/TV Shows"
      ],
      "metadata": {
        "id": "td8leo0yUxVo"
      }
    },
    {
      "cell_type": "code",
      "execution_count": null,
      "metadata": {
        "id": "cR2BN-HxSwbl"
      },
      "outputs": [],
      "source": [
        "top_popular = titles_df[['title', 'tmdb_popularity']].dropna().sort_values(by='tmdb_popularity', ascending=False).head(10)\n",
        "\n",
        "plt.figure(figsize=(10, 5))\n",
        "sns.barplot(x=top_popular['tmdb_popularity'], y=top_popular['title'], palette=\"coolwarm\")\n",
        "plt.title(\"Top 10 Most Popular Titles\")\n",
        "plt.xlabel(\"TMDb Popularity\")\n",
        "plt.ylabel(\"Title\")\n",
        "plt.show()"
      ]
    },
    {
      "cell_type": "markdown",
      "metadata": {
        "id": "SfoQDvnwSwbl"
      },
      "source": [
        "##### 1. Why did you pick the specific chart?"
      ]
    },
    {
      "cell_type": "markdown",
      "metadata": {
        "id": "XF7l4IG1Swbm"
      },
      "source": [
        "A horizontal bar chart clearly shows the top titles."
      ]
    },
    {
      "cell_type": "markdown",
      "metadata": {
        "id": "ewQ-a419Swbm"
      },
      "source": [
        "##### 2. What is/are the insight(s) found from the chart?"
      ]
    },
    {
      "cell_type": "markdown",
      "metadata": {
        "id": "Mpr9bqqbSwbm"
      },
      "source": [
        "1.Some lesser-known movies may have unexpectedly high popularity.\n",
        "2.Popularity may be driven by trends or recent promotions."
      ]
    },
    {
      "cell_type": "markdown",
      "metadata": {
        "id": "168hLQyzSwbm"
      },
      "source": [
        "##### 3. Will the gained insights help creating a positive business impact?\n",
        "Are there any insights that lead to negative growth? Justify with specific reason."
      ]
    },
    {
      "cell_type": "markdown",
      "metadata": {
        "id": "Y4o8CWMoSwbm"
      },
      "source": [
        "1.Investing in trending titles could increase revenue.\n",
        "2.Identifying why some movies are highly popular can help optimize marketing."
      ]
    },
    {
      "cell_type": "markdown",
      "metadata": {
        "id": "FEFyWP1zSwbm"
      },
      "source": [
        "#### Chart - 6"
      ]
    },
    {
      "cell_type": "code",
      "execution_count": null,
      "metadata": {
        "id": "Q5BitmznSwbn"
      },
      "outputs": [],
      "source": [
        "plt.figure(figsize=(12, 5))\n",
        "sns.lineplot(data=titles_df['release_year'].value_counts().sort_index())\n",
        "plt.title(\"Number of Movies/TV Shows Released Per Year\")\n",
        "plt.xlabel(\"Year\")\n",
        "plt.ylabel(\"Number of Releases\")\n",
        "plt.show()\n"
      ]
    },
    {
      "cell_type": "markdown",
      "metadata": {
        "id": "VVJ0J4cCSwbn"
      },
      "source": [
        "##### 1. Why did you pick the specific chart?"
      ]
    },
    {
      "cell_type": "markdown",
      "metadata": {
        "id": "BWMmVm6YSwbn"
      },
      "source": [
        "1.A line chart is best for showing trends over time.\n",
        "2.It helps visualize the growth pattern of movie & TV show releases."
      ]
    },
    {
      "cell_type": "markdown",
      "metadata": {
        "id": "405df27SSwbn"
      },
      "source": [
        "##### 2. What is/are the insight(s) found from the chart?"
      ]
    },
    {
      "cell_type": "markdown",
      "metadata": {
        "id": "WMHaxeQtSwbo"
      },
      "source": [
        "1.The number of releases has increased over the years, especially after 2000.\n",
        "2.There may be a dip in certain years due to industry disruptions (e.g., economic crises, pandemics).\n"
      ]
    },
    {
      "cell_type": "markdown",
      "metadata": {
        "id": "Kc7juGNhSwbo"
      },
      "source": [
        "##### 3. Will the gained insights help creating a positive business impact?\n",
        "Are there any insights that lead to negative growth? Justify with specific reason."
      ]
    },
    {
      "cell_type": "markdown",
      "metadata": {
        "id": "6flU4JrOSwbo"
      },
      "source": [
        "✅ Positive Impact:\n",
        "Growth trend means increasing demand, making it beneficial to produce more content.\n",
        "❌ Negative Impact:\n",
        "A sudden drop in content production in certain years may indicate industry challenges or shifting audience interests."
      ]
    },
    {
      "cell_type": "markdown",
      "metadata": {
        "id": "sRF5w8dZSwbo"
      },
      "source": [
        "#### Chart - 7"
      ]
    },
    {
      "cell_type": "code",
      "execution_count": null,
      "metadata": {
        "id": "fePBWhPfSwbo"
      },
      "outputs": [],
      "source": [
        "import seaborn as sns\n",
        "import matplotlib.pyplot as plt\n",
        "\n",
        "# Explode the genres column while resetting index\n",
        "exploded_df = titles_df[['genres', 'imdb_score']].explode('genres').dropna().reset_index(drop=True)\n",
        "\n",
        "# Plot the boxplot\n",
        "plt.figure(figsize=(15, 6))\n",
        "sns.boxplot(x=exploded_df['genres'], y=exploded_df['imdb_score'])\n",
        "plt.xticks(rotation=90)\n",
        "plt.title(\"Average IMDb Score per Genre\")\n",
        "plt.xlabel(\"Genre\")\n",
        "plt.ylabel(\"IMDb Score\")\n",
        "plt.show()"
      ]
    },
    {
      "cell_type": "markdown",
      "metadata": {
        "id": "5ohJwloBSwbo"
      },
      "source": [
        "##### 1. Why did you pick the specific chart?"
      ]
    },
    {
      "cell_type": "markdown",
      "metadata": {
        "id": "lJrA9TuYSwbo"
      },
      "source": [
        "1.A box plot helps compare IMDb score distributions across different genres.\n",
        "2.It shows which genres tend to have higher or lower ratings."
      ]
    },
    {
      "cell_type": "markdown",
      "metadata": {
        "id": "jZnFYgCXSwbp"
      },
      "source": [
        "##### 2. What is/are the insight(s) found from the chart?"
      ]
    },
    {
      "cell_type": "markdown",
      "metadata": {
        "id": "7Juq4csMSwbp"
      },
      "source": [
        "1.Genres like Drama, Documentary, and Thriller tend to have higher ratings.\n",
        "2.Action and Horror movies have greater variation, with some poorly rated titles."
      ]
    },
    {
      "cell_type": "markdown",
      "metadata": {
        "id": "bg8AE-PiSwbp"
      },
      "source": [
        "#### Chart - 8"
      ]
    },
    {
      "cell_type": "code",
      "execution_count": null,
      "metadata": {
        "id": "XLTapgk0Swbp"
      },
      "outputs": [],
      "source": [
        "country_counts = titles_df['production_countries'].explode().value_counts().head(10)\n",
        "\n",
        "plt.figure(figsize=(10, 5))\n",
        "plt.pie(country_counts, labels=country_counts.index, autopct='%1.1f%%', colors=sns.color_palette('Set2'))\n",
        "plt.title(\"Top 10 Production Countries\")\n",
        "plt.show()\n"
      ]
    },
    {
      "cell_type": "markdown",
      "metadata": {
        "id": "H4bxApKHSwbq"
      },
      "source": [
        "##### 1. Why did you pick the specific chart?"
      ]
    },
    {
      "cell_type": "markdown",
      "metadata": {
        "id": "Hnx2Y3F3Swbq"
      },
      "source": [
        "A pie chart effectively shows the distribution of content production by country."
      ]
    },
    {
      "cell_type": "markdown",
      "metadata": {
        "id": "U0G6bjttSwbq"
      },
      "source": [
        "##### 2. What is/are the insight(s) found from the chart?"
      ]
    },
    {
      "cell_type": "markdown",
      "metadata": {
        "id": "HYwtSfLGSwbq"
      },
      "source": [
        "1.The US dominates production, followed by other major film industries (India, UK).\n",
        "2.Some regions produce little content, highlighting potential growth opportunities."
      ]
    },
    {
      "cell_type": "markdown",
      "metadata": {
        "id": "hTyuzT6LSwbq"
      },
      "source": [
        "##### 3. Will the gained insights help creating a positive business impact?\n",
        "Are there any insights that lead to negative growth? Justify with specific reason."
      ]
    },
    {
      "cell_type": "markdown",
      "metadata": {
        "id": "8hzgUQkoSwbq"
      },
      "source": [
        "✅ Positive Impact:\n",
        "Expanding localized content in underserved regions can attract new subscribers.\n",
        "❌ Negative Impact:\n",
        "Over-reliance on a single country (US) could limit global reach and diversity."
      ]
    },
    {
      "cell_type": "markdown",
      "metadata": {
        "id": "ZwObmDfCSwbr"
      },
      "source": [
        "#### Chart - 9"
      ]
    },
    {
      "cell_type": "code",
      "execution_count": null,
      "metadata": {
        "id": "gOf5l-Z-Swbr"
      },
      "outputs": [],
      "source": [
        "plt.figure(figsize=(8, 5))\n",
        "sns.histplot(titles_df['seasons'].dropna(), bins=15, kde=True, color=\"green\")\n",
        "plt.title(\"Distribution of Seasons in TV Shows\")\n",
        "plt.xlabel(\"Number of Seasons\")\n",
        "plt.ylabel(\"Frequency\")\n",
        "plt.show()\n"
      ]
    },
    {
      "cell_type": "markdown",
      "metadata": {
        "id": "5-EHjJKkSwbr"
      },
      "source": [
        "##### 1. Why did you pick the specific chart?"
      ]
    },
    {
      "cell_type": "markdown",
      "metadata": {
        "id": "70LD5ilOSwbr"
      },
      "source": [
        "A histogram shows the frequency of TV shows with different season counts."
      ]
    },
    {
      "cell_type": "markdown",
      "metadata": {
        "id": "FrD9SS6XSwbr"
      },
      "source": [
        "##### 2. What is/are the insight(s) found from the chart?"
      ]
    },
    {
      "cell_type": "markdown",
      "metadata": {
        "id": "BV5AIOtYSwbr"
      },
      "source": [
        "Most TV shows have 1-3 seasons, indicating limited-run series are common.\n"
      ]
    },
    {
      "cell_type": "markdown",
      "metadata": {
        "id": "BfvAB1ecSwbr"
      },
      "source": [
        "##### 3. Will the gained insights help creating a positive business impact?\n",
        "Are there any insights that lead to negative growth? Justify with specific reason."
      ]
    },
    {
      "cell_type": "markdown",
      "metadata": {
        "id": "4XbUTrgVSwbs"
      },
      "source": [
        "✅ Positive Impact:\n",
        "Shorter series (1-3 seasons) attract binge-watchers, increasing engagement.\n",
        "❌ Negative Impact:\n",
        "Fewer long-running shows could lead to lower platform retention."
      ]
    },
    {
      "cell_type": "markdown",
      "metadata": {
        "id": "QDJwjP5jSwbs"
      },
      "source": [
        "#### Chart - 10"
      ]
    },
    {
      "cell_type": "code",
      "execution_count": null,
      "metadata": {
        "id": "bYcRmHmkSwbs"
      },
      "outputs": [],
      "source": [
        "top_directors = credits_df[credits_df['role'] == 'DIRECTOR']['name'].value_counts().head(10)\n",
        "\n",
        "plt.figure(figsize=(10, 5))\n",
        "sns.barplot(x=top_directors.values, y=top_directors.index, palette=\"coolwarm\")\n",
        "plt.title(\"Top 10 Directors with Most Titles\")\n",
        "plt.xlabel(\"Number of Titles\")\n",
        "plt.ylabel(\"Director Name\")\n",
        "plt.show()\n"
      ]
    },
    {
      "cell_type": "markdown",
      "metadata": {
        "id": "JF7FJtS9Swbs"
      },
      "source": [
        "##### 1. Why did you pick the specific chart?"
      ]
    },
    {
      "cell_type": "markdown",
      "metadata": {
        "id": "kKpnAfJuSwbs"
      },
      "source": [
        "A bar chart highlights the most frequently working directors."
      ]
    },
    {
      "cell_type": "markdown",
      "metadata": {
        "id": "wGWbeDSOSwbs"
      },
      "source": [
        "##### 2. What is/are the insight(s) found from the chart?"
      ]
    },
    {
      "cell_type": "markdown",
      "metadata": {
        "id": "HdrmxnZLSwbs"
      },
      "source": [
        "Some directors have extensive filmographies, contributing to platform success.\n"
      ]
    },
    {
      "cell_type": "markdown",
      "metadata": {
        "id": "s6SvHhmsSwbt"
      },
      "source": [
        "##### 3. Will the gained insights help creating a positive business impact?\n",
        "Are there any insights that lead to negative growth? Justify with specific reason."
      ]
    },
    {
      "cell_type": "markdown",
      "metadata": {
        "id": "5usT_p0BSwbt"
      },
      "source": [
        "Partnering with top directors can lead to consistent high-quality releases."
      ]
    },
    {
      "cell_type": "markdown",
      "metadata": {
        "id": "owrakBVtSwbt"
      },
      "source": [
        "#### Chart - 11"
      ]
    },
    {
      "cell_type": "code",
      "execution_count": null,
      "metadata": {
        "id": "svekEvaySwbt"
      },
      "outputs": [],
      "source": [
        "top_actors = credits_df[credits_df['role'] == 'ACTOR']['name'].value_counts().head(10)\n",
        "\n",
        "plt.figure(figsize=(10, 5))\n",
        "sns.barplot(x=top_actors.values, y=top_actors.index, palette=\"coolwarm\")\n",
        "plt.title(\"Top 10 Most Frequent Actors\")\n",
        "plt.xlabel(\"Number of Titles\")\n",
        "plt.ylabel(\"Actor Name\")\n",
        "plt.show()\n",
        "\n"
      ]
    },
    {
      "cell_type": "markdown",
      "metadata": {
        "id": "RNNDF1uASwbt"
      },
      "source": [
        "##### 1. Why did you pick the specific chart?"
      ]
    },
    {
      "cell_type": "markdown",
      "metadata": {
        "id": "e_9K7yXhSwbt"
      },
      "source": [
        "Highlights which actors are the most featured on the platform."
      ]
    },
    {
      "cell_type": "markdown",
      "metadata": {
        "id": "GQJpVtFTSwbt"
      },
      "source": [
        "##### 2. What is/are the insight(s) found from the chart?"
      ]
    },
    {
      "cell_type": "markdown",
      "metadata": {
        "id": "cB9NarEZSwbu"
      },
      "source": [
        "Certain actors appear in many productions, making them valuable assets."
      ]
    },
    {
      "cell_type": "markdown",
      "metadata": {
        "id": "B0iHNGZESwbu"
      },
      "source": [
        "##### 3. Will the gained insights help creating a positive business impact?\n",
        "Are there any insights that lead to negative growth? Justify with specific reason."
      ]
    },
    {
      "cell_type": "markdown",
      "metadata": {
        "id": "2meMJJwjSwbu"
      },
      "source": [
        "Promoting familiar faces can drive viewership."
      ]
    },
    {
      "cell_type": "markdown",
      "metadata": {
        "id": "Ox7kvfRkSwbu"
      },
      "source": [
        "#### Chart - 12"
      ]
    },
    {
      "cell_type": "code",
      "execution_count": null,
      "metadata": {
        "id": "14beO-m0Swbu"
      },
      "outputs": [],
      "source": [
        "plt.figure(figsize=(8, 5))\n",
        "sns.scatterplot(x=titles_df[\"runtime\"], y=titles_df[\"imdb_score\"], alpha=0.5, color=\"red\")\n",
        "plt.title(\"Runtime vs IMDb Score\")\n",
        "plt.xlabel(\"Runtime (minutes)\")\n",
        "plt.ylabel(\"IMDb Score\")\n",
        "plt.show()\n"
      ]
    },
    {
      "cell_type": "markdown",
      "metadata": {
        "id": "ydtt26IuSwbu"
      },
      "source": [
        "##### 1. Why did you pick the specific chart?"
      ]
    },
    {
      "cell_type": "markdown",
      "metadata": {
        "id": "o504pihqSwbv"
      },
      "source": [
        "Shows if longer movies tend to get higher/lower ratings."
      ]
    },
    {
      "cell_type": "markdown",
      "metadata": {
        "id": "NQ1UevEDSwbv"
      },
      "source": [
        "##### 2. What is/are the insight(s) found from the chart?"
      ]
    },
    {
      "cell_type": "markdown",
      "metadata": {
        "id": "pTRRAjChSwbv"
      },
      "source": [
        "1.Moderate-length movies (90-150 min) have higher ratings.\n",
        "2.Very short/long movies tend to be rated lower."
      ]
    },
    {
      "cell_type": "markdown",
      "metadata": {
        "id": "bBLzQl87Swbv"
      },
      "source": [
        "##### 3. Will the gained insights help creating a positive business impact?\n",
        "Are there any insights that lead to negative growth? Justify with specific reason."
      ]
    },
    {
      "cell_type": "markdown",
      "metadata": {
        "id": "QEEFpgZTSwbx"
      },
      "source": [
        "✅ Positive Impact:\n",
        "Producing content within the ideal runtime range can improve ratings."
      ]
    },
    {
      "cell_type": "markdown",
      "metadata": {
        "id": "3qktG8BBSwbx"
      },
      "source": [
        "#### Chart - 13"
      ]
    },
    {
      "cell_type": "code",
      "execution_count": null,
      "metadata": {
        "id": "W1RSxMJJSwbx"
      },
      "outputs": [],
      "source": [
        "titles_df['decade'] = (titles_df['release_year'] // 10) * 10\n",
        "decade_type_counts = titles_df.groupby(['decade', 'type']).size().unstack()\n",
        "\n",
        "decade_type_counts.plot(kind='bar', stacked=True, figsize=(12, 6), colormap=\"coolwarm\")\n",
        "plt.title(\"Movies vs. TV Shows per Decade\")\n",
        "plt.xlabel(\"Decade\")\n",
        "plt.ylabel(\"Count\")\n",
        "plt.legend(title=\"Type\")\n",
        "plt.show()\n",
        "\n"
      ]
    },
    {
      "cell_type": "markdown",
      "metadata": {
        "id": "-gOo17ErSwby"
      },
      "source": [
        "##### 1. Why did you pick the specific chart?"
      ]
    },
    {
      "cell_type": "markdown",
      "metadata": {
        "id": "foEHSCt-Swby"
      },
      "source": [
        "Helps understand how TV shows and movies have evolved over time."
      ]
    },
    {
      "cell_type": "markdown",
      "metadata": {
        "id": "fQzENG72Swby"
      },
      "source": [
        "##### 2. What is/are the insight(s) found from the chart?"
      ]
    },
    {
      "cell_type": "markdown",
      "metadata": {
        "id": "goaPEqAxSwby"
      },
      "source": [
        "TV Shows have increased significantly in recent decades."
      ]
    },
    {
      "cell_type": "markdown",
      "metadata": {
        "id": "xGfcBnvDSwby"
      },
      "source": [
        "##### 3. Will the gained insights help creating a positive business impact?\n",
        "Are there any insights that lead to negative growth? Justify with specific reason."
      ]
    },
    {
      "cell_type": "markdown",
      "metadata": {
        "id": "2Tt6sOC6Swby"
      },
      "source": [
        "✅ Positive Impact:\n",
        "Investing in more TV shows aligns with modern trends."
      ]
    },
    {
      "cell_type": "markdown",
      "metadata": {
        "id": "h7VaB-PRSwbz"
      },
      "source": [
        "#### Chart - 14"
      ]
    },
    {
      "cell_type": "code",
      "execution_count": null,
      "metadata": {
        "id": "gO0YAUA9Swbz"
      },
      "outputs": [],
      "source": [
        "plt.figure(figsize=(12, 5))\n",
        "sns.lineplot(data=titles_df.groupby('release_year')['imdb_votes'].sum())\n",
        "plt.title(\"Growth Trend of IMDb Votes Over the Years\")\n",
        "plt.xlabel(\"Year\")\n",
        "plt.ylabel(\"Total IMDb Votes\")\n",
        "plt.show()\n"
      ]
    },
    {
      "cell_type": "markdown",
      "metadata": {
        "id": "II10UgfySwbz"
      },
      "source": [
        "##### 1. Why did you pick the specific chart?"
      ]
    },
    {
      "cell_type": "markdown",
      "metadata": {
        "id": "KXtyrtF1Swbz"
      },
      "source": [
        "1.A line chart helps visualize how audience engagement (IMDb votes) has evolved over time.\n",
        "2.Helps identify trends in movie/TV popularity across different years."
      ]
    },
    {
      "cell_type": "markdown",
      "metadata": {
        "id": "sN5V05gCSwbz"
      },
      "source": [
        "##### 2. What is/are the insight(s) found from the chart?"
      ]
    },
    {
      "cell_type": "markdown",
      "metadata": {
        "id": "_-EvEDY0Swbz"
      },
      "source": [
        "1.IMDb votes have increased significantly over the years, showing a rise in audience engagement.\n",
        "2.There may be spikes in votes around blockbuster releases or specific trends (e.g., streaming era).\n"
      ]
    },
    {
      "cell_type": "markdown",
      "source": [
        "✅ Positive Impact:\n",
        "\n",
        "Increasing IMDb votes indicate growing audience interaction, proving higher engagement and viewership.\n",
        "More votes mean more valuable audience feedback for better content decisions.\n",
        "❌ Negative Impact:\n",
        "\n",
        "A drop in IMDb votes in specific years could indicate declining audience interest or lack of high-quality content.\n",
        "Platforms must ensure continuous content quality to maintain audience engagement."
      ],
      "metadata": {
        "id": "V6pc8bzBY13X"
      }
    },
    {
      "cell_type": "markdown",
      "metadata": {
        "id": "H7IkJwYoSwb0"
      },
      "source": [
        "#### Chart - 15"
      ]
    },
    {
      "cell_type": "code",
      "execution_count": null,
      "metadata": {
        "id": "XB4z41OxSwb0"
      },
      "outputs": [],
      "source": [
        "plt.figure(figsize=(8, 5))\n",
        "sns.scatterplot(x=titles_df[\"tmdb_popularity\"], y=titles_df[\"imdb_votes\"], alpha=0.5, color=\"green\")\n",
        "plt.title(\"IMDb Votes vs TMDb Popularity\")\n",
        "plt.xlabel(\"TMDb Popularity\")\n",
        "plt.ylabel(\"IMDb Votes\")\n",
        "plt.show()\n"
      ]
    },
    {
      "cell_type": "markdown",
      "metadata": {
        "id": "HYFAS9cxSwb0"
      },
      "source": [
        "##### 1. Why did you pick the specific chart?"
      ]
    },
    {
      "cell_type": "markdown",
      "metadata": {
        "id": "xRo-3ELbSwb0"
      },
      "source": [
        "1.A scatter plot shows the relationship between a movie/show's popularity and audience votes.\n",
        "2.Helps determine whether highly popular content also receives high audience engagement."
      ]
    },
    {
      "cell_type": "markdown",
      "metadata": {
        "id": "ZJk3K_XRSwb0"
      },
      "source": [
        "##### 2. What is/are the insight(s) found from the chart?"
      ]
    },
    {
      "cell_type": "markdown",
      "metadata": {
        "id": "rpR7sq2GSwb0"
      },
      "source": [
        "1.Some highly popular movies/shows have low votes, meaning they might be trending but not engaging.\n",
        "2.Movies with high votes are not always the most popular, indicating strong fan engagement even for niche titles."
      ]
    },
    {
      "cell_type": "markdown",
      "source": [
        "📌 3. Business Impact (Positive/Negative Growth)?\n",
        "✅ Positive Impact:\n",
        "\n",
        "Understanding this correlation can help strategically market content that is gaining traction.\n",
        "If low-vote movies are highly popular, adding interactive elements (polls, reviews, social engagement) may help boost retention.\n",
        "❌ Negative Impact:\n",
        "\n",
        "If popular titles receive fewer votes, it suggests they lack deep audience engagement, meaning they may not have lasting impact.\n",
        "Focus should be on increasing audience retention, not just hype-based popularity."
      ],
      "metadata": {
        "id": "z_QI3IUcZBhP"
      }
    },
    {
      "cell_type": "markdown",
      "source": [],
      "metadata": {
        "id": "KFkRX6i_ZCkH"
      }
    },
    {
      "cell_type": "markdown",
      "metadata": {
        "id": "oEi6u6ctZEr8"
      },
      "source": [
        "## **5. Solution to Business Objective**"
      ]
    },
    {
      "cell_type": "markdown",
      "source": [
        "Based on the EDA, the following key solutions are derived:\n",
        "\n",
        "✅ Content Strategy: Prioritize high-rated genres like Drama and Thriller, while improving Action and Horror quality.\n",
        "✅ Viewer Engagement: Focus on shorter TV series for binge-watchers and improve audience interaction through ratings and reviews.\n",
        "✅ Platform Growth: Utilize IMDb votes & TMDb popularity to promote trending content and collaborate with top actors and directors.\n",
        "✅ Addressing Challenges: Monitor poorly rated content and avoid over-reliance on a single region for production."
      ],
      "metadata": {
        "id": "krYerikuaZ5B"
      }
    },
    {
      "cell_type": "markdown",
      "metadata": {
        "id": "BtOaSV3UapKu"
      },
      "source": [
        "# **Conclusion**"
      ]
    },
    {
      "cell_type": "markdown",
      "source": [
        "The EDA on Amazon Prime Movies & TV Shows provided key insights into genre popularity, IMDb ratings, content trends, and audience engagement.\n",
        "\n",
        "✅ Drama and Thriller dominate high ratings, while Action and Horror show mixed reviews.\n",
        "✅ Movies outnumber TV shows, and shorter series are more common.\n",
        "✅ IMDb votes & TMDb popularity highlight trending content, guiding marketing strategies.\n",
        "✅ Production is US-dominated, but expanding globally can boost reach.\n",
        "\n",
        "These findings can help improve content strategy, platform growth, and viewer retention. 🚀"
      ],
      "metadata": {
        "id": "j46JsOcYamXZ"
      }
    }
  ],
  "metadata": {
    "colab": {
      "collapsed_sections": [
        "O-hjl8oJ0SbG"
      ],
      "private_outputs": true,
      "provenance": []
    },
    "kernelspec": {
      "display_name": "Python 3",
      "name": "python3"
    },
    "language_info": {
      "name": "python"
    }
  },
  "nbformat": 4,
  "nbformat_minor": 0
}
